{
 "cells": [
  {
   "cell_type": "code",
   "execution_count": 2,
   "metadata": {},
   "outputs": [],
   "source": [
    "import tabula\n",
    "import pandas as pd\n",
    "import numpy as np"
   ]
  },
  {
   "cell_type": "code",
   "execution_count": 128,
   "metadata": {},
   "outputs": [],
   "source": [
    "#all_case_status=['FOR FINAL HEARING','ADJOURNED CONTEMPT MATTER','NOTICE AND ADJOURNED MATTERS - CONTEMPT','URGENT ADMISSION (FRESH MATTERS)','FOR REGULAR ADMISSION',\n",
    "#'NOTICE & ADJOURNED MATTERS','FOR FINAL HEARING']\n",
    "all_case_status=('FOR','ADJOURNED','NOTICE','URGENT','ON THE TOP','FRESH','BOARD','POSSESSION','CANCELLATION')"
   ]
  },
  {
   "cell_type": "code",
   "execution_count": 212,
   "metadata": {},
   "outputs": [
    {
     "name": "stderr",
     "output_type": "stream",
     "text": [
      "Got stderr: Apr 26, 2022 10:03:17 AM org.apache.pdfbox.pdmodel.font.PDType1Font <init>\n",
      "WARNING: Using fallback font LiberationSans for base font Symbol\n",
      "Apr 26, 2022 10:03:17 AM org.apache.pdfbox.pdmodel.font.PDType1Font <init>\n",
      "WARNING: Using fallback font LiberationSans for base font ZapfDingbats\n",
      "\n"
     ]
    }
   ],
   "source": [
    "#tables=tabula.read_pdf('clist.pdf',pages=[3,4,5,6,7,8,9],lattice=True)\n",
    "tables=tabula.read_pdf('clist.pdf',pages='all',lattice=True)"
   ]
  },
  {
   "cell_type": "code",
   "execution_count": 207,
   "metadata": {},
   "outputs": [
    {
     "data": {
      "text/plain": [
       "'R/FA/807/2019'"
      ]
     },
     "execution_count": 207,
     "metadata": {},
     "output_type": "execute_result"
    }
   ],
   "source": [
    "case_no_pattern=('R/','MCA/','CA/','CR.MA/')\n",
    "def extract_case_no(casestr):\n",
    "    if isinstance(casestr,str):\n",
    "        l=casestr.split(\"\\r\")\n",
    "        l=list(filter(lambda x:x.startswith(case_no_pattern),l))\n",
    "        return ';'.join(l)\n",
    "    else:\n",
    "        return \"\"\n",
    "\n",
    "extract_case_no('R/FA/807/2019\\r(AHMEDABAD)\t')"
   ]
  },
  {
   "cell_type": "code",
   "execution_count": 117,
   "metadata": {},
   "outputs": [
    {
     "data": {
      "text/plain": [
       "{'judges': '', 'board_type': '', 'court_no': ''}"
      ]
     },
     "execution_count": 117,
     "metadata": {},
     "output_type": "execute_result"
    }
   ],
   "source": [
    "def isBoardTypeTable(tbl_a):\n",
    "    tbl=tbl_a.fillna('')\n",
    "    if tbl.shape[0]==0:\n",
    "        return False\n",
    "    if isinstance(tbl.iloc[0,0],str):\n",
    "        if tbl.iloc[0,0].startswith(('IN THE DIVISION COURT OF','IN THE COURT OF'))==True:\n",
    "            return True\n",
    "        else:\n",
    "            return False\n",
    "    else:\n",
    "        return False\n",
    "def getBoardDetail(tbl):\n",
    "    if isBoardTypeTable(tbl):\n",
    "       judges=' '.join(tbl.iloc[0,0].split(\"\\r\")[1:])\n",
    "       board_court_d=tbl.iloc[1,0].split(\"COURT NO\")\n",
    "       board_type=board_court_d[0].strip()\n",
    "       court_no=board_court_d[1].split(\":\")[1].strip()\n",
    "       return {'judges':judges,'board_type':board_type,'court_no':court_no}\n",
    "    else:\n",
    "        return {'judges':'','board_type':'','court_no':''}\n",
    "\n",
    "getBoardDetail(tables[1])\n",
    "#tables[1].shape[0]\n"
   ]
  },
  {
   "cell_type": "code",
   "execution_count": 209,
   "metadata": {},
   "outputs": [],
   "source": [
    "def isCaseListTable(tbl):\n",
    "    if len(tbl.columns)>0:\n",
    "        return tbl.columns[0].startswith('LIST')\n",
    "    else:\n",
    "        return False\n",
    "def getBoardListDF(list_table,court_no,board_type,judges):\n",
    "    list_tbl=list_table.copy()\n",
    "    list_tbl=list_tbl.dropna(how='all')\n",
    "    list_tbl, list_tbl.columns = list_tbl[1:] , list_tbl.iloc[0]\n",
    "    list_tbl.rename(columns=list_tbl.iloc[0]).drop(list_tbl.index[0])\n",
    "    list_tbl.iloc[:,0]=list_tbl.iloc[:,0].fillna(method='ffill')\n",
    "    list_tbl['srno']=list_tbl.iloc[:,0].copy()\n",
    "    list_tbl['srno'].where(list_tbl['srno'].str.isdigit(),np.NaN,inplace=True)\n",
    "    list_tbl['srno']=list_tbl['srno'].fillna(method='ffill')\n",
    "    list_tbl['status']=list_tbl.iloc[:,0].copy()\n",
    "    list_tbl['status']=list_tbl['status'].fillna('')\n",
    "    \n",
    "    list_tbl['status']=list_tbl['status'].apply(lambda x:' '.join(x.split()))\n",
    "    list_tbl['status'].where(list_tbl['status'].apply(lambda x:x.startswith(all_case_status)),np.NaN,inplace=True) # make sure list includes all possible status,othewrise wrong status\n",
    "\n",
    "    list_tbl['status']=list_tbl['status'].fillna(method='ffill')\n",
    "\n",
    "    list_tbl.drop(list_tbl[list_tbl['srno'].isna()].index,inplace=True)\n",
    "    \n",
    "    list_tbl['case_nos_b']=list_tbl['CASE DETAILS'].copy() #.apply(lambda x:extract_case_no(x))\n",
    "    list_tbl['case_nos_b']=list_tbl['case_nos_b'].fillna(method='ffill')\n",
    "    list_tbl['case_nos_b'].where(list_tbl['case_nos_b'].apply(lambda x:x.startswith(case_no_pattern)),np.NaN,inplace=True) #remove text which is not case no.\n",
    "    list_tbl['case_nos_b']=list_tbl['case_nos_b'].fillna(method='ffill') # refill na with current case no\n",
    "    list_tbl_f=list_tbl.groupby(['srno','case_nos_b'],as_index=False).agg({'status':'first','REMARKS':'first'})\n",
    "    list_tbl_f['REMARKS']=list_tbl_f['REMARKS'].fillna('na')\n",
    "    list_tbl_f['REMARKS']=list_tbl_f['REMARKS'].apply(lambda x: x.replace('\\r',' '))\n",
    "    list_tbl_f['case_nos_b']=list_tbl_f['case_nos_b'].apply(lambda x:extract_case_no(x))\n",
    "    list_tbl_f['board_type']=board_type\n",
    "    list_tbl_f['court_no']=court_no\n",
    "    list_tbl_f['judges']=judges\n",
    "    return list_tbl_f\n",
    "#getBoardListDF(tables[0],2344,'Daily Board','XYZ')\n",
    "#isCaseListTable(tables[2])\n",
    "#t=tables[2].dropna(how='all').append(tables[3].iloc[1:,:],ignore_index=True)\n",
    "#t.iloc[18:35,:]\n",
    "#x=getBoardListDF(t,2344,'Daily Board','XYZ')\n",
    "#x\n",
    "#x.iloc[18:35,:]\n",
    "#'''\n",
    "#len(tables)\n",
    "#isCaseListTable(tables[2])\n",
    "#tables[2]\n",
    "#getBoardListDF(tables[2],2344,'Daily Board','XYZ')\n",
    "#.dropna(how='all')"
   ]
  },
  {
   "cell_type": "code",
   "execution_count": 214,
   "metadata": {},
   "outputs": [],
   "source": [
    "main_group=[]\n",
    "temp_buff_group=[]\n",
    "for tbl in tables:\n",
    "    if isBoardTypeTable(tbl)==True:\n",
    "        #print(\"boardtype\")\n",
    "        if len(temp_buff_group)>0:\n",
    "            main_group.append(temp_buff_group.copy())\n",
    "        temp_buff_group=[tbl]\n",
    "    if isCaseListTable(tbl)==True:\n",
    "        #print(\"listtype\")\n",
    "        temp_buff_group.append(tbl)\n",
    "main_group.append(temp_buff_group.copy())\n",
    "parsed_tables=[]\n",
    "#tables[0]\n",
    "# len(tables)\n",
    "# print(len(main_group[0]))\n",
    "#main_group[1]\n",
    "\n",
    "#boardData=getBoardDetail(main_group[1][0])\n",
    "#getBoardListDF(main_group[1][2],boardData['court_no'],boardData['board_type'],boardData['judges'])\n",
    "for g in main_group:\n",
    "    df_with_data_rows=list(map(lambda x:x.iloc[1:,:],g[2:]))\n",
    "    #print(df_with_data_rows)\n",
    "    #now merge first list_df with df_with_data_rows\n",
    "    clist_df=g[1]\n",
    "    if len(g)>2:\n",
    "        clist_df=pd.concat([g[1]]+df_with_data_rows,ignore_index=True)\n",
    "    boardData=getBoardDetail(g[0])\n",
    "    caselistdf=getBoardListDF(clist_df,boardData['court_no'],boardData['board_type'],boardData['judges']).sort_values(by=['srno'])\n",
    "    parsed_tables.append(caselistdf)\n",
    "#len(parsed_tables)\n",
    "pd.concat(parsed_tables).to_csv(\"parsed_data_1.csv\")\n",
    "\n",
    "#isBoardTypeTable(tables[3])\n",
    "#tables[3].iloc[1:,:]\n",
    "\n",
    "\n",
    "        \n"
   ]
  }
 ],
 "metadata": {
  "interpreter": {
   "hash": "916dbcbb3f70747c44a77c7bcd40155683ae19c65e1c03b4aa3499c5328201f1"
  },
  "kernelspec": {
   "display_name": "Python 3.8.10 64-bit",
   "language": "python",
   "name": "python3"
  },
  "language_info": {
   "codemirror_mode": {
    "name": "ipython",
    "version": 3
   },
   "file_extension": ".py",
   "mimetype": "text/x-python",
   "name": "python",
   "nbconvert_exporter": "python",
   "pygments_lexer": "ipython3",
   "version": "3.8.10"
  },
  "orig_nbformat": 4
 },
 "nbformat": 4,
 "nbformat_minor": 2
}
